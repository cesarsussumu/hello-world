{
    "cells": [
        {
            "metadata": {},
            "cell_type": "markdown",
            "source": "# My Jupyter Notebook on IBM Watson Studio\n"
        },
        {
            "metadata": {},
            "cell_type": "markdown",
            "source": "**Cesar Sussumu Ikarimoto**\n--\nChemical Engineer"
        },
        {
            "metadata": {},
            "cell_type": "markdown",
            "source": "*I'm very interested in Data Science because of all the possibilities to predict and make good decisions based in data that normally is available in my everyday routine. I'm really excited as well to some surprises that arise from relations I've never thougth before, what makes astounishing outcomes.*"
        },
        {
            "metadata": {},
            "cell_type": "markdown",
            "source": "### The next code will solve a simple Pythagorean Theorem: given the sum of the squares of the legs of a right triangle, its square root is equal to the opposite side of this triangle, hypotenuse. Let's make a and b the legs, and c, the hypotenuse."
        },
        {
            "metadata": {},
            "cell_type": "code",
            "source": "import math\na = 3\nb = 4\nc = math.sqrt(a**2+b**2)\nd= print(\"The hypotenuse of a right triangle with legs of \",a, \" and \", b, \" is equal to \",c)",
            "execution_count": 13,
            "outputs": [
                {
                    "output_type": "stream",
                    "text": "The hypotenuse of a right triangle with legs of  3  and  4  is equal to  5.0\n",
                    "name": "stdout"
                }
            ]
        },
        {
            "metadata": {},
            "cell_type": "markdown",
            "source": "***\n\n***\n\nLink to RIGHT TRIANGLE:\n\n[right triangle](https://github.com/cesarsussumu/hello-world/blob/master/righttriangle.png \"right triangle\")\n\n### in the next table, we have results based in the code above:\n\n|Triangle|Leg 1|Leg 2|Hypotenuse|\n|-----------|-------|-------|-------|\n|1|3|4|5|\n|2|2|5|5.38|\n|3|3|6|6.71|"
        },
        {
            "metadata": {},
            "cell_type": "code",
            "source": "",
            "execution_count": null,
            "outputs": []
        }
    ],
    "metadata": {
        "kernelspec": {
            "name": "python3",
            "display_name": "Python 3.9",
            "language": "python"
        },
        "language_info": {
            "name": "python",
            "version": "3.9.7",
            "mimetype": "text/x-python",
            "codemirror_mode": {
                "name": "ipython",
                "version": 3
            },
            "pygments_lexer": "ipython3",
            "nbconvert_exporter": "python",
            "file_extension": ".py"
        }
    },
    "nbformat": 4,
    "nbformat_minor": 1
}